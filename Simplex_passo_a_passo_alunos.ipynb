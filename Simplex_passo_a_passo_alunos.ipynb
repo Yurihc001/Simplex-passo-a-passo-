{
  "nbformat": 4,
  "nbformat_minor": 0,
  "metadata": {
    "colab": {
      "provenance": [],
      "include_colab_link": true
    },
    "kernelspec": {
      "name": "python3",
      "display_name": "Python 3"
    },
    "language_info": {
      "name": "python"
    }
  },
  "cells": [
    {
      "cell_type": "markdown",
      "metadata": {
        "id": "view-in-github",
        "colab_type": "text"
      },
      "source": [
        "<a href=\"https://colab.research.google.com/github/Yurihc001/Simplex-passo-a-passo-/blob/main/Simplex_passo_a_passo_alunos.ipynb\" target=\"_parent\"><img src=\"https://colab.research.google.com/assets/colab-badge.svg\" alt=\"Open In Colab\"/></a>"
      ]
    },
    {
      "cell_type": "code",
      "source": [
        "# Importando biblioteca Numpy\n",
        "import numpy as np"
      ],
      "metadata": {
        "id": "QEcSdHdBVx9R"
      },
      "execution_count": null,
      "outputs": []
    },
    {
      "cell_type": "markdown",
      "source": [
        "##1. Dados de entrada\n",
        "\n",
        "* Matrizes $A$, $b$, $c$\n",
        "* Base inicial factível"
      ],
      "metadata": {
        "id": "z_Mb46S69rnr"
      }
    },
    {
      "cell_type": "code",
      "execution_count": null,
      "metadata": {
        "id": "d_eiNhyQVohs"
      },
      "outputs": [],
      "source": [
        "# Dados de entrada ligas metálicas\n",
        "A = np.matrix([[0.5, 0.3, 1, 0, 0],\n",
        "               [0.1, 0.2, 0, 1, 0],\n",
        "               [0.4, 0.5, 0, 0, 1]]) \n",
        "\n",
        "b = np.matrix([[3],\n",
        "               [1],\n",
        "               [3]])\n",
        "\n",
        "c = np.matrix([[-3],\n",
        "               [-2],\n",
        "               [0],\n",
        "               [0],\n",
        "               [0]])\n",
        "\n",
        "base = [2, 3, 4]"
      ]
    },
    {
      "cell_type": "markdown",
      "source": [
        "##2. Calcula solução \n",
        "\n",
        "* Matriz   $B=A_{\\mathcal{B}}$\n",
        "\n",
        "* Solução básica $\\bar{x}_{\\mathcal{B}}=B^{-1}b$"
      ],
      "metadata": {
        "id": "INQ4Ahjg95da"
      }
    },
    {
      "cell_type": "code",
      "source": [
        "# Matriz B\n",
        "B = np.matrix(A[:,base])\n",
        "print(\"B =\")\n",
        "print(B)\n",
        "\n",
        "print()\n",
        "\n",
        "# Solução básica\n",
        "xB = np.linalg.inv(B) * b\n",
        "print(\"xB =\")\n",
        "print(xB)"
      ],
      "metadata": {
        "id": "pt34XM9DV5zO"
      },
      "execution_count": null,
      "outputs": []
    },
    {
      "cell_type": "markdown",
      "source": [
        "##3. Verifica se a solução é ótima\n",
        "\n",
        "* Vetor $p^T=c_{\\mathcal{B}}^TB^{-1}$\n",
        "* Custos relativos $s = c^T-p^TA$\n",
        "* Verifica se existem custos relativos negativos. O método continua em caso afirmativo e a variável com menor custo relativo entra na base\n",
        "* Caso não existam custos relativos negativos, a solução atual é a solução ótima. Vá para o item 5"
      ],
      "metadata": {
        "id": "85dnKHYp-DC7"
      }
    },
    {
      "cell_type": "code",
      "source": [
        "# Vetor pT\n",
        "pT = c[base].T * np.linalg.inv(B)\n",
        "print(\"pT = \", pT)\n",
        "\n",
        "# Custos relativos\n",
        "s = c.T - pT * A\n",
        "print(\"s = \", s)"
      ],
      "metadata": {
        "id": "3p3kBll2WVoV"
      },
      "execution_count": null,
      "outputs": []
    },
    {
      "cell_type": "code",
      "source": [
        "# Verifica se a solução é ótima\n",
        "mins = s.min() # Calcula o valor mínimo de s\n",
        "p1 = s.argmin() # Retorna a posição do valor mínimo no vetor s\n",
        "print(\"mins = \", mins)\n",
        "print(\"p1 = \", p1)"
      ],
      "metadata": {
        "id": "2pCp6PToXgLx"
      },
      "execution_count": null,
      "outputs": []
    },
    {
      "cell_type": "markdown",
      "source": [
        "##4. Atualização da base\n",
        "* Vetor  $y=B^{-1}a_k$, onde $k$ é o índice da variável que entrará na base\n",
        "* Vetor $r=x_{\\mathcal{B}}/y$\n",
        "* A variável associada à posição de $r$ com valor mínimo sairá da base. Devemos levar em consideração para o cálculo do mínimo apenas entradas de $r$ cujo valor de $y$ associado seja positivo. Atualize a base e volte ao item 2\n",
        "* Caso não existam valores positivos em $y$, trata-se de um problema ilimitado e o método se encerra\n"
      ],
      "metadata": {
        "id": "KZIdjf7e-LiS"
      }
    },
    {
      "cell_type": "code",
      "source": [
        "# Vetor auxiliar y\n",
        "y = np.linalg.inv(B) * A[:,p1]\n",
        "print(\"y =\")\n",
        "print(y)\n",
        "print()\n",
        "\n",
        "# Teste da razão\n",
        "r = xB / y\n",
        "print(\"r =\")\n",
        "print(r)\n",
        "print()\n",
        "\n",
        "# Eliminando valores negativos do vetor r\n",
        "r[r < 0] = np.inf\n",
        "print(\"r =\")\n",
        "print(r)"
      ],
      "metadata": {
        "id": "Xj4bqswxYB0W"
      },
      "execution_count": null,
      "outputs": []
    },
    {
      "cell_type": "code",
      "source": [
        "# Determina variável que sai da base\n",
        "minr = r.min()\n",
        "p2 = r.argmin()\n",
        "print(\"minr = \", minr)\n",
        "print(\"p2 = \", p2)"
      ],
      "metadata": {
        "id": "F_7_hNYPYbgs"
      },
      "execution_count": null,
      "outputs": []
    },
    {
      "cell_type": "code",
      "source": [
        "# Atualiza a base\n",
        "base[p2] = p1\n",
        "print(base)"
      ],
      "metadata": {
        "id": "1wkPsZ6cYpG1"
      },
      "execution_count": null,
      "outputs": []
    },
    {
      "cell_type": "markdown",
      "source": [
        "##5. Apresenta solução ótima "
      ],
      "metadata": {
        "id": "y3iFuY0RAlte"
      }
    },
    {
      "cell_type": "code",
      "source": [
        "# Solução ótima\n",
        "x = np.zeros([c.size,1]) # Cria matriz nula para escrever a solução \n",
        "x[base] = xB # Coloca os valores da solução básica nas posições corretas da matriz de solução\n",
        "#print(x)\n",
        "for i in range(c.size):\n",
        "  print(\"x[{}] = {}\".format(i+1,x[i,0]))"
      ],
      "metadata": {
        "id": "AItA6gm6AkUb"
      },
      "execution_count": null,
      "outputs": []
    },
    {
      "cell_type": "code",
      "source": [
        "# Valor ótimo\n",
        "vo = (c.T * x)\n",
        "print(\"Valor ótimo = \",vo)"
      ],
      "metadata": {
        "id": "z24_6CpuBJ-r"
      },
      "execution_count": null,
      "outputs": []
    }
  ]
}